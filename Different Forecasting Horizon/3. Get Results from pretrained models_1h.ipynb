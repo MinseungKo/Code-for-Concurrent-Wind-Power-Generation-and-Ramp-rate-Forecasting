{
 "cells": [
  {
   "cell_type": "code",
   "execution_count": 1,
   "id": "1f12e41e",
   "metadata": {},
   "outputs": [],
   "source": [
    "import tensorflow as tf\n",
    "\n",
    "import pandas as pd\n",
    "import codecs\n",
    "import numpy as np\n",
    "import math\n",
    "import csv\n",
    "from sklearn.preprocessing import MinMaxScaler, StandardScaler\n",
    "from sklearn.metrics import mean_squared_error\n",
    "from sklearn.metrics import mean_absolute_error\n",
    "from sklearn.metrics import recall_score, precision_score # New\n",
    "from sklearn.metrics import f1_score\n",
    "from sklearn.metrics import confusion_matrix\n",
    "from sklearn import preprocessing\n",
    "import matplotlib.pyplot as plt\n",
    "import tensorflow.keras.preprocessing\n",
    "#from tensorflow.keras.callbacks import ModelCheckpoint, CSVLogger, EarlyStopping, LearningRateScheduler, ReduceLROnPlateau\n",
    "from tensorflow.keras.models import Sequential, Model\n",
    "from tensorflow.keras.layers import Dense, Input, Flatten, Add, Multiply, Subtract\n",
    "from tensorflow.keras import backend as K\n",
    "from tensorflow.keras.layers import Activation, BatchNormalization\n",
    "# regularizers\n",
    "from tensorflow.keras.layers import Conv1D, Conv2D\n",
    "from tensorflow.keras.layers import MaxPooling1D\n",
    "from tensorflow.keras.layers import concatenate\n",
    "from tensorflow.keras.layers import LSTM, Bidirectional\n",
    "from tensorflow.keras.utils import plot_model\n",
    "from tensorflow.keras.layers import Dropout, SpatialDropout1D\n",
    "from scipy import signal\n",
    "import openpyxl\n",
    "import seaborn as sns\n",
    "import matplotlib.pyplot as plt\n",
    "import warnings\n",
    "warnings.filterwarnings('ignore')\n",
    "\n",
    "from matplotlib import pylab as plt\n",
    "import matplotlib.dates as mdates\n",
    "import seaborn as sns\n",
    "\n",
    "from keijzer import *\n",
    "from tensorflow import keras\n",
    "from keras.models import Model\n",
    "from keras.layers import *\n",
    "from tensorflow.keras.optimizers import Adam,SGD\n",
    "from keras.layers import Dense, Input, Flatten, Add, concatenate, Dropout, Activation, Multiply, Embedding, Layer, Reshape\n",
    "from keras.layers import LSTM, Bidirectional, GlobalMaxPooling1D, GlobalAveragePooling1D  \n",
    "from keras.layers import Conv1D, AveragePooling1D, MaxPooling1D\n",
    "#from keras.ops import convert_to_tensor, convert_to_numpy\n",
    "#from keras.utils import plot_model\n",
    "from keras import activations\n",
    "from sklearn.pipeline import Pipeline\n",
    "from sklearn.model_selection import GridSearchCV\n",
    "from sklearn.model_selection import StratifiedKFold\n",
    "from keras.callbacks import ModelCheckpoint, CSVLogger, EarlyStopping, LearningRateScheduler, ReduceLROnPlateau\n",
    "import math\n",
    "\n",
    "def get_flops(model):\n",
    "    run_meta = tf.RunMetadata()\n",
    "    opts = tf.profiler.ProfileOptionBuilder.float_operation()\n",
    "\n",
    "    # We use the Keras session graph in the call to the profiler.\n",
    "    flops = tf.profiler.profile(graph=K.get_session().graph,\n",
    "                                run_meta=run_meta, cmd='op', options=opts)\n",
    "\n",
    "    return flops.total_float_ops  # Prints the \"flops\" of the model.\n",
    "\n",
    "class LossHistory(tensorflow.keras.callbacks.Callback):  # history = LossHistory()\n",
    "    def init(self):  # history.init()\n",
    "        self.losses = []\n",
    "        # self.accs = []\n",
    "        self.val_losses = []\n",
    "        # self.val_accs = []\n",
    "        self.rmses = []\n",
    "        self.mses = []\n",
    "        self.maes = []\n",
    "        self.mapes = []\n",
    "        self.val_rmses = []\n",
    "        self.val_mses = []\n",
    "        self.val_maes = []\n",
    "        self.val_mapes = []\n",
    "\n",
    "    def on_epoch_end(self, batch, logs={}):\n",
    "        self.losses.append(logs.get('loss'))\n",
    "        # self.accs.append(logs.get('acc'))\n",
    "        self.val_losses.append(logs.get('val_loss'))\n",
    "        # self.val_accs.append(logs.get('val_accuracy\n",
    "        self.rmses.append(logs.get('root_mean_squared_error'))\n",
    "        self.mses.append(logs.get('mean_squared_error'))\n",
    "        self.maes.append(logs.get('mean_absolute_error'))\n",
    "        self.mapes.append(logs.get('mean_absolute_percentage_error'))\n",
    "        self.val_rmses.append(logs.get('val_root_mean_squared_error'))\n",
    "        self.val_mses.append(logs.get('val_mean_squared_error'))\n",
    "        self.val_maes.append(logs.get('val_mean_absolute_error'))\n",
    "        self.val_mapes.append(logs.get('val_mean_absolute_percentage_error'))\n",
    "\n",
    "def mean_absolute_percentage_error(y_true, y_pred):\n",
    "    y_true, y_pred = np.array(y_true), np.array(y_pred)\n",
    "    return np.mean(np.abs((y_true - y_pred) / y_true)) * 100\n",
    "\n",
    "def root_mean_squared_error(y_true, y_pred):\n",
    "        return K.sqrt(K.mean(K.square(y_pred - y_true))) "
   ]
  },
  {
   "cell_type": "code",
   "execution_count": 2,
   "id": "55fca799",
   "metadata": {},
   "outputs": [
    {
     "name": "stdout",
     "output_type": "stream",
     "text": [
      "[PhysicalDevice(name='/physical_device:GPU:0', device_type='GPU')]\n"
     ]
    }
   ],
   "source": [
    "import os\n",
    "\n",
    "os.environ[\"CUDA_VISIBLE_DEVICES\"] = '0' # 여러개 사용시 '0,1,2' 식으로 하나의 문자열에 입력\n",
    "gpus = tf.config.experimental.list_physical_devices('GPU') # 호스트 러나임에 표시되는 GPU 장치 목록 반환\n",
    "\n",
    "if gpus: # 반환된 GPU 장치 목록이 있다면\n",
    "    try: # 해당 장치에 대한 메모리 증가 활성화 여부 설정\n",
    "        tf.config.experimental.set_memory_growth(gpus[0], True)\n",
    "    except RuntimeError as e: # try문 실패시에 에러문구 출력\n",
    "        print(e)\n",
    "\n",
    "print(tf.config.list_physical_devices('GPU'))"
   ]
  },
  {
   "cell_type": "code",
   "execution_count": 3,
   "id": "deccb47e",
   "metadata": {},
   "outputs": [
    {
     "data": {
      "text/html": [
       "<div>\n",
       "<style scoped>\n",
       "    .dataframe tbody tr th:only-of-type {\n",
       "        vertical-align: middle;\n",
       "    }\n",
       "\n",
       "    .dataframe tbody tr th {\n",
       "        vertical-align: top;\n",
       "    }\n",
       "\n",
       "    .dataframe thead th {\n",
       "        text-align: right;\n",
       "    }\n",
       "</style>\n",
       "<table border=\"1\" class=\"dataframe\">\n",
       "  <thead>\n",
       "    <tr style=\"text-align: right;\">\n",
       "      <th></th>\n",
       "      <th>Time-Date stamp</th>\n",
       "      <th>Date</th>\n",
       "      <th>ERCOT Load</th>\n",
       "      <th>Total Wind Output</th>\n",
       "      <th>Total Wind Installed</th>\n",
       "      <th>Wind Output, % of Load</th>\n",
       "      <th>Wind Output, % of Installed</th>\n",
       "      <th>1-hr MW change</th>\n",
       "      <th>1-hr % change</th>\n",
       "    </tr>\n",
       "  </thead>\n",
       "  <tbody>\n",
       "    <tr>\n",
       "      <th>0</th>\n",
       "      <td>01-01-2020 00:00:00</td>\n",
       "      <td>Jan-01</td>\n",
       "      <td>36823</td>\n",
       "      <td>12335</td>\n",
       "      <td>27040</td>\n",
       "      <td>33.5</td>\n",
       "      <td>45.617</td>\n",
       "      <td>NaN</td>\n",
       "      <td>NaN</td>\n",
       "    </tr>\n",
       "    <tr>\n",
       "      <th>1</th>\n",
       "      <td>01-01-2020 01:00:00</td>\n",
       "      <td>Jan-01</td>\n",
       "      <td>36511</td>\n",
       "      <td>13300</td>\n",
       "      <td>27040</td>\n",
       "      <td>36.4</td>\n",
       "      <td>49.187</td>\n",
       "      <td>965.4</td>\n",
       "      <td>7.826</td>\n",
       "    </tr>\n",
       "    <tr>\n",
       "      <th>2</th>\n",
       "      <td>01-01-2020 02:00:00</td>\n",
       "      <td>Jan-01</td>\n",
       "      <td>36022</td>\n",
       "      <td>13586</td>\n",
       "      <td>27040</td>\n",
       "      <td>37.7</td>\n",
       "      <td>50.245</td>\n",
       "      <td>286.2</td>\n",
       "      <td>2.152</td>\n",
       "    </tr>\n",
       "    <tr>\n",
       "      <th>3</th>\n",
       "      <td>01-01-2020 03:00:00</td>\n",
       "      <td>Jan-01</td>\n",
       "      <td>35790</td>\n",
       "      <td>14107</td>\n",
       "      <td>27040</td>\n",
       "      <td>39.4</td>\n",
       "      <td>52.171</td>\n",
       "      <td>520.9</td>\n",
       "      <td>3.834</td>\n",
       "    </tr>\n",
       "    <tr>\n",
       "      <th>4</th>\n",
       "      <td>01-01-2020 04:00:00</td>\n",
       "      <td>Jan-01</td>\n",
       "      <td>35642</td>\n",
       "      <td>14887</td>\n",
       "      <td>27040</td>\n",
       "      <td>41.8</td>\n",
       "      <td>55.055</td>\n",
       "      <td>779.6</td>\n",
       "      <td>5.527</td>\n",
       "    </tr>\n",
       "    <tr>\n",
       "      <th>...</th>\n",
       "      <td>...</td>\n",
       "      <td>...</td>\n",
       "      <td>...</td>\n",
       "      <td>...</td>\n",
       "      <td>...</td>\n",
       "      <td>...</td>\n",
       "      <td>...</td>\n",
       "      <td>...</td>\n",
       "      <td>...</td>\n",
       "    </tr>\n",
       "    <tr>\n",
       "      <th>35060</th>\n",
       "      <td>12-31-2023 20:00:00</td>\n",
       "      <td>Dec-31</td>\n",
       "      <td>44887</td>\n",
       "      <td>17161</td>\n",
       "      <td>38631</td>\n",
       "      <td>38.23</td>\n",
       "      <td>44.42</td>\n",
       "      <td>2858</td>\n",
       "      <td>19.99</td>\n",
       "    </tr>\n",
       "    <tr>\n",
       "      <th>35061</th>\n",
       "      <td>12-31-2023 21:00:00</td>\n",
       "      <td>Dec-31</td>\n",
       "      <td>44013</td>\n",
       "      <td>18301</td>\n",
       "      <td>38631</td>\n",
       "      <td>41.58</td>\n",
       "      <td>47.37</td>\n",
       "      <td>1139</td>\n",
       "      <td>6.64</td>\n",
       "    </tr>\n",
       "    <tr>\n",
       "      <th>35062</th>\n",
       "      <td>12-31-2023 22:00:00</td>\n",
       "      <td>Dec-31</td>\n",
       "      <td>43280</td>\n",
       "      <td>18607</td>\n",
       "      <td>38631</td>\n",
       "      <td>42.99</td>\n",
       "      <td>48.17</td>\n",
       "      <td>307</td>\n",
       "      <td>1.67</td>\n",
       "    </tr>\n",
       "    <tr>\n",
       "      <th>35063</th>\n",
       "      <td>12-31-2023 23:00:00</td>\n",
       "      <td>Dec-31</td>\n",
       "      <td>42319</td>\n",
       "      <td>17866</td>\n",
       "      <td>38631</td>\n",
       "      <td>42.22</td>\n",
       "      <td>46.25</td>\n",
       "      <td>-741</td>\n",
       "      <td>-3.98</td>\n",
       "    </tr>\n",
       "    <tr>\n",
       "      <th>35064</th>\n",
       "      <td>01-01-2024 00:00:00</td>\n",
       "      <td>Jan-01</td>\n",
       "      <td>41682</td>\n",
       "      <td>15869</td>\n",
       "      <td>38631</td>\n",
       "      <td>38.07</td>\n",
       "      <td>41.08</td>\n",
       "      <td>-1996</td>\n",
       "      <td>-11.17</td>\n",
       "    </tr>\n",
       "  </tbody>\n",
       "</table>\n",
       "<p>35065 rows × 9 columns</p>\n",
       "</div>"
      ],
      "text/plain": [
       "           Time-Date stamp    Date ERCOT Load Total Wind Output  \\\n",
       "0      01-01-2020 00:00:00  Jan-01      36823             12335   \n",
       "1      01-01-2020 01:00:00  Jan-01      36511             13300   \n",
       "2      01-01-2020 02:00:00  Jan-01      36022             13586   \n",
       "3      01-01-2020 03:00:00  Jan-01      35790             14107   \n",
       "4      01-01-2020 04:00:00  Jan-01      35642             14887   \n",
       "...                    ...     ...        ...               ...   \n",
       "35060  12-31-2023 20:00:00  Dec-31      44887             17161   \n",
       "35061  12-31-2023 21:00:00  Dec-31      44013             18301   \n",
       "35062  12-31-2023 22:00:00  Dec-31      43280             18607   \n",
       "35063  12-31-2023 23:00:00  Dec-31      42319             17866   \n",
       "35064  01-01-2024 00:00:00  Jan-01      41682             15869   \n",
       "\n",
       "      Total Wind Installed Wind Output, % of Load Wind Output, % of Installed  \\\n",
       "0                    27040                   33.5                      45.617   \n",
       "1                    27040                   36.4                      49.187   \n",
       "2                    27040                   37.7                      50.245   \n",
       "3                    27040                   39.4                      52.171   \n",
       "4                    27040                   41.8                      55.055   \n",
       "...                    ...                    ...                         ...   \n",
       "35060                38631                  38.23                       44.42   \n",
       "35061                38631                  41.58                       47.37   \n",
       "35062                38631                  42.99                       48.17   \n",
       "35063                38631                  42.22                       46.25   \n",
       "35064                38631                  38.07                       41.08   \n",
       "\n",
       "      1-hr MW change 1-hr % change  \n",
       "0                NaN           NaN  \n",
       "1              965.4         7.826  \n",
       "2              286.2         2.152  \n",
       "3              520.9         3.834  \n",
       "4              779.6         5.527  \n",
       "...              ...           ...  \n",
       "35060           2858         19.99  \n",
       "35061           1139          6.64  \n",
       "35062            307          1.67  \n",
       "35063           -741         -3.98  \n",
       "35064          -1996        -11.17  \n",
       "\n",
       "[35065 rows x 9 columns]"
      ]
     },
     "execution_count": 3,
     "metadata": {},
     "output_type": "execute_result"
    }
   ],
   "source": [
    "data_path = 'C:/Users/smartgrid_AI/Desktop/windpower_ramprate/ercot_2020.csv'\n",
    "data_source1 = pd.read_csv(data_path)\n",
    "dat_source1 = pd.DataFrame(data_source1)\n",
    "#dat_source1 = dat_source1.iloc[:-3,:]\n",
    "\n",
    "data_path = 'C:/Users/smartgrid_AI/Desktop/windpower_ramprate/ercot_2021.csv'\n",
    "data_source2 = pd.read_csv(data_path)\n",
    "dat_source2 = pd.DataFrame(data_source2)\n",
    "dat_source2 = dat_source2.iloc[:8761,:9]\n",
    "\n",
    "data_path = 'C:/Users/smartgrid_AI/Desktop/windpower_ramprate/ercot_2022.csv'\n",
    "data_source3 = pd.read_csv(data_path)\n",
    "dat_source3 = pd.DataFrame(data_source3)\n",
    "dat_source3 = dat_source3.iloc[:8760,:9]\n",
    "\n",
    "data_path = 'C:/Users/smartgrid_AI/Desktop/windpower_ramprate/ercot_2023.csv'\n",
    "data_source4 = pd.read_csv(data_path)\n",
    "dat_source4 = pd.DataFrame(data_source4)\n",
    "dat_source4 = dat_source4.iloc[:8760,:9]\n",
    "\n",
    "dat_arr1 = np.array(dat_source1)\n",
    "dat_arr2 = np.array(dat_source2)\n",
    "dat_arr3 = np.array(dat_source3)\n",
    "dat_arr4 = np.array(dat_source4)\n",
    "\n",
    "dat_arr = np.concatenate([dat_arr1, dat_arr2, dat_arr3, dat_arr4],axis=0)\n",
    "dat_arr.shape # 8784, 8761, 8760, 8760\n",
    "\n",
    "dat_source = pd.DataFrame(dat_arr, columns=['Time-Date stamp','Date','ERCOT Load','Total Wind Output','Total Wind Installed','Wind Output, % of Load','Wind Output, % of Installed','1-hr MW change','1-hr % change'])\n",
    "dat_source"
   ]
  },
  {
   "cell_type": "code",
   "execution_count": 4,
   "id": "9721dc53",
   "metadata": {},
   "outputs": [
    {
     "data": {
      "text/html": [
       "<div>\n",
       "<style scoped>\n",
       "    .dataframe tbody tr th:only-of-type {\n",
       "        vertical-align: middle;\n",
       "    }\n",
       "\n",
       "    .dataframe tbody tr th {\n",
       "        vertical-align: top;\n",
       "    }\n",
       "\n",
       "    .dataframe thead th {\n",
       "        text-align: right;\n",
       "    }\n",
       "</style>\n",
       "<table border=\"1\" class=\"dataframe\">\n",
       "  <thead>\n",
       "    <tr style=\"text-align: right;\">\n",
       "      <th></th>\n",
       "      <th>MW % change</th>\n",
       "      <th>Total Wind Output</th>\n",
       "    </tr>\n",
       "  </thead>\n",
       "  <tbody>\n",
       "    <tr>\n",
       "      <th>0</th>\n",
       "      <td>3.56879</td>\n",
       "      <td>0.491864</td>\n",
       "    </tr>\n",
       "    <tr>\n",
       "      <th>1</th>\n",
       "      <td>1.05769</td>\n",
       "      <td>0.502441</td>\n",
       "    </tr>\n",
       "    <tr>\n",
       "      <th>2</th>\n",
       "      <td>1.92678</td>\n",
       "      <td>0.521709</td>\n",
       "    </tr>\n",
       "    <tr>\n",
       "      <th>3</th>\n",
       "      <td>2.88462</td>\n",
       "      <td>0.550555</td>\n",
       "    </tr>\n",
       "    <tr>\n",
       "      <th>4</th>\n",
       "      <td>-0.580621</td>\n",
       "      <td>0.544749</td>\n",
       "    </tr>\n",
       "    <tr>\n",
       "      <th>...</th>\n",
       "      <td>...</td>\n",
       "      <td>...</td>\n",
       "    </tr>\n",
       "    <tr>\n",
       "      <th>35059</th>\n",
       "      <td>7.3982</td>\n",
       "      <td>0.444229</td>\n",
       "    </tr>\n",
       "    <tr>\n",
       "      <th>35060</th>\n",
       "      <td>2.951</td>\n",
       "      <td>0.473739</td>\n",
       "    </tr>\n",
       "    <tr>\n",
       "      <th>35061</th>\n",
       "      <td>0.79211</td>\n",
       "      <td>0.48166</td>\n",
       "    </tr>\n",
       "    <tr>\n",
       "      <th>35062</th>\n",
       "      <td>-1.91815</td>\n",
       "      <td>0.462478</td>\n",
       "    </tr>\n",
       "    <tr>\n",
       "      <th>35063</th>\n",
       "      <td>-5.16942</td>\n",
       "      <td>0.410784</td>\n",
       "    </tr>\n",
       "  </tbody>\n",
       "</table>\n",
       "<p>35064 rows × 2 columns</p>\n",
       "</div>"
      ],
      "text/plain": [
       "      MW % change Total Wind Output\n",
       "0         3.56879          0.491864\n",
       "1         1.05769          0.502441\n",
       "2         1.92678          0.521709\n",
       "3         2.88462          0.550555\n",
       "4       -0.580621          0.544749\n",
       "...           ...               ...\n",
       "35059      7.3982          0.444229\n",
       "35060       2.951          0.473739\n",
       "35061     0.79211           0.48166\n",
       "35062    -1.91815          0.462478\n",
       "35063    -5.16942          0.410784\n",
       "\n",
       "[35064 rows x 2 columns]"
      ]
     },
     "execution_count": 4,
     "metadata": {},
     "output_type": "execute_result"
    }
   ],
   "source": [
    "dat = pd.DataFrame()\n",
    "dat['MW % change'] = np.array(dat_source.iloc[1:,3], dtype=float)-np.array(dat_source.iloc[0:-1,3], dtype=float)\n",
    "dat['MW % change'] = np.divide(np.array(dat['MW % change']),np.array(dat_source.iloc[1:,4]))*100\n",
    "dat['Total Wind Output'] = np.divide(np.array(dat_source.iloc[1:,3]), np.array(dat_source.iloc[1:,4]))\n",
    "\n",
    "dat"
   ]
  },
  {
   "cell_type": "markdown",
   "id": "9ef66ee0",
   "metadata": {},
   "source": [
    "## Figures"
   ]
  },
  {
   "cell_type": "code",
   "execution_count": 5,
   "id": "278f9352",
   "metadata": {},
   "outputs": [
    {
     "data": {
      "text/html": [
       "<div>\n",
       "<style scoped>\n",
       "    .dataframe tbody tr th:only-of-type {\n",
       "        vertical-align: middle;\n",
       "    }\n",
       "\n",
       "    .dataframe tbody tr th {\n",
       "        vertical-align: top;\n",
       "    }\n",
       "\n",
       "    .dataframe thead th {\n",
       "        text-align: right;\n",
       "    }\n",
       "</style>\n",
       "<table border=\"1\" class=\"dataframe\">\n",
       "  <thead>\n",
       "    <tr style=\"text-align: right;\">\n",
       "      <th></th>\n",
       "      <th>Year</th>\n",
       "      <th>MW % change</th>\n",
       "      <th>Total Wind Output</th>\n",
       "    </tr>\n",
       "  </thead>\n",
       "  <tbody>\n",
       "    <tr>\n",
       "      <th>0</th>\n",
       "      <td>2020</td>\n",
       "      <td>3.56879</td>\n",
       "      <td>0.491864</td>\n",
       "    </tr>\n",
       "    <tr>\n",
       "      <th>1</th>\n",
       "      <td>2020</td>\n",
       "      <td>1.05769</td>\n",
       "      <td>0.502441</td>\n",
       "    </tr>\n",
       "    <tr>\n",
       "      <th>2</th>\n",
       "      <td>2020</td>\n",
       "      <td>1.92678</td>\n",
       "      <td>0.521709</td>\n",
       "    </tr>\n",
       "    <tr>\n",
       "      <th>3</th>\n",
       "      <td>2020</td>\n",
       "      <td>2.88462</td>\n",
       "      <td>0.550555</td>\n",
       "    </tr>\n",
       "    <tr>\n",
       "      <th>4</th>\n",
       "      <td>2020</td>\n",
       "      <td>-0.580621</td>\n",
       "      <td>0.544749</td>\n",
       "    </tr>\n",
       "    <tr>\n",
       "      <th>...</th>\n",
       "      <td>...</td>\n",
       "      <td>...</td>\n",
       "      <td>...</td>\n",
       "    </tr>\n",
       "    <tr>\n",
       "      <th>35059</th>\n",
       "      <td>2023</td>\n",
       "      <td>7.3982</td>\n",
       "      <td>0.444229</td>\n",
       "    </tr>\n",
       "    <tr>\n",
       "      <th>35060</th>\n",
       "      <td>2023</td>\n",
       "      <td>2.951</td>\n",
       "      <td>0.473739</td>\n",
       "    </tr>\n",
       "    <tr>\n",
       "      <th>35061</th>\n",
       "      <td>2023</td>\n",
       "      <td>0.79211</td>\n",
       "      <td>0.48166</td>\n",
       "    </tr>\n",
       "    <tr>\n",
       "      <th>35062</th>\n",
       "      <td>2023</td>\n",
       "      <td>-1.91815</td>\n",
       "      <td>0.462478</td>\n",
       "    </tr>\n",
       "    <tr>\n",
       "      <th>35063</th>\n",
       "      <td>2023</td>\n",
       "      <td>-5.16942</td>\n",
       "      <td>0.410784</td>\n",
       "    </tr>\n",
       "  </tbody>\n",
       "</table>\n",
       "<p>35064 rows × 3 columns</p>\n",
       "</div>"
      ],
      "text/plain": [
       "       Year MW % change Total Wind Output\n",
       "0      2020     3.56879          0.491864\n",
       "1      2020     1.05769          0.502441\n",
       "2      2020     1.92678          0.521709\n",
       "3      2020     2.88462          0.550555\n",
       "4      2020   -0.580621          0.544749\n",
       "...     ...         ...               ...\n",
       "35059  2023      7.3982          0.444229\n",
       "35060  2023       2.951          0.473739\n",
       "35061  2023     0.79211           0.48166\n",
       "35062  2023    -1.91815          0.462478\n",
       "35063  2023    -5.16942          0.410784\n",
       "\n",
       "[35064 rows x 3 columns]"
      ]
     },
     "execution_count": 5,
     "metadata": {},
     "output_type": "execute_result"
    }
   ],
   "source": [
    "ramp_ratio = 20\n",
    "load_ratio = 10\n",
    "year_arr = np.concatenate([np.ones(8784)*2020, np.ones(8760)*2021, np.ones(8760)*2022, np.ones(8760)*2023])\n",
    "year_df = pd.DataFrame(year_arr, columns=['Year'], dtype=int)\n",
    "wind_df = pd.concat([year_df, dat], axis=1)\n",
    "wind_df"
   ]
  },
  {
   "cell_type": "code",
   "execution_count": 6,
   "id": "acb52861",
   "metadata": {},
   "outputs": [
    {
     "data": {
      "text/html": [
       "<div>\n",
       "<style scoped>\n",
       "    .dataframe tbody tr th:only-of-type {\n",
       "        vertical-align: middle;\n",
       "    }\n",
       "\n",
       "    .dataframe tbody tr th {\n",
       "        vertical-align: top;\n",
       "    }\n",
       "\n",
       "    .dataframe thead th {\n",
       "        text-align: right;\n",
       "    }\n",
       "</style>\n",
       "<table border=\"1\" class=\"dataframe\">\n",
       "  <thead>\n",
       "    <tr style=\"text-align: right;\">\n",
       "      <th></th>\n",
       "      <th>Year</th>\n",
       "      <th>MW % change</th>\n",
       "      <th>Total Wind Output</th>\n",
       "    </tr>\n",
       "  </thead>\n",
       "  <tbody>\n",
       "    <tr>\n",
       "      <th>0</th>\n",
       "      <td>2020</td>\n",
       "      <td>0.620197</td>\n",
       "      <td>0.644724</td>\n",
       "    </tr>\n",
       "    <tr>\n",
       "      <th>1</th>\n",
       "      <td>2020</td>\n",
       "      <td>0.544580</td>\n",
       "      <td>0.658617</td>\n",
       "    </tr>\n",
       "    <tr>\n",
       "      <th>2</th>\n",
       "      <td>2020</td>\n",
       "      <td>0.570751</td>\n",
       "      <td>0.683924</td>\n",
       "    </tr>\n",
       "    <tr>\n",
       "      <th>3</th>\n",
       "      <td>2020</td>\n",
       "      <td>0.599594</td>\n",
       "      <td>0.721813</td>\n",
       "    </tr>\n",
       "    <tr>\n",
       "      <th>4</th>\n",
       "      <td>2020</td>\n",
       "      <td>0.495246</td>\n",
       "      <td>0.714187</td>\n",
       "    </tr>\n",
       "    <tr>\n",
       "      <th>...</th>\n",
       "      <td>...</td>\n",
       "      <td>...</td>\n",
       "      <td>...</td>\n",
       "    </tr>\n",
       "    <tr>\n",
       "      <th>35058</th>\n",
       "      <td>2023</td>\n",
       "      <td>0.774643</td>\n",
       "      <td>0.484984</td>\n",
       "    </tr>\n",
       "    <tr>\n",
       "      <th>35059</th>\n",
       "      <td>2023</td>\n",
       "      <td>0.735512</td>\n",
       "      <td>0.582157</td>\n",
       "    </tr>\n",
       "    <tr>\n",
       "      <th>35060</th>\n",
       "      <td>2023</td>\n",
       "      <td>0.601593</td>\n",
       "      <td>0.620917</td>\n",
       "    </tr>\n",
       "    <tr>\n",
       "      <th>35061</th>\n",
       "      <td>2023</td>\n",
       "      <td>0.536583</td>\n",
       "      <td>0.631322</td>\n",
       "    </tr>\n",
       "    <tr>\n",
       "      <th>35062</th>\n",
       "      <td>2023</td>\n",
       "      <td>0.454969</td>\n",
       "      <td>0.606127</td>\n",
       "    </tr>\n",
       "  </tbody>\n",
       "</table>\n",
       "<p>35063 rows × 3 columns</p>\n",
       "</div>"
      ],
      "text/plain": [
       "       Year  MW % change  Total Wind Output\n",
       "0      2020     0.620197           0.644724\n",
       "1      2020     0.544580           0.658617\n",
       "2      2020     0.570751           0.683924\n",
       "3      2020     0.599594           0.721813\n",
       "4      2020     0.495246           0.714187\n",
       "...     ...          ...                ...\n",
       "35058  2023     0.774643           0.484984\n",
       "35059  2023     0.735512           0.582157\n",
       "35060  2023     0.601593           0.620917\n",
       "35061  2023     0.536583           0.631322\n",
       "35062  2023     0.454969           0.606127\n",
       "\n",
       "[35063 rows x 3 columns]"
      ]
     },
     "execution_count": 6,
     "metadata": {},
     "output_type": "execute_result"
    }
   ],
   "source": [
    "#from tensorflow.keras.layers import preprocessing\n",
    "#from tensorflow.keras import preprocessing\n",
    "import sklearn\n",
    "\n",
    "wind_df = wind_df.reset_index(drop=True)\n",
    "#std_scaler = sklearn.preprocessing.StandardScaler()\n",
    "#std_scaler_load = sklearn.preprocessing.StandardScaler()\n",
    "#std_scaler_ramp = sklearn.preprocessing.StandardScaler()\n",
    "\n",
    "std_scaler = sklearn.preprocessing.MinMaxScaler()\n",
    "std_scaler_load = sklearn.preprocessing.MinMaxScaler()\n",
    "std_scaler_ramp = sklearn.preprocessing.MinMaxScaler()\n",
    "\n",
    "wind_df[['Total Wind Output']] = std_scaler.fit_transform(wind_df[['Total Wind Output']])\n",
    "wind_df[['MW % change']] = std_scaler_ramp.fit_transform(wind_df[['MW % change']])\n",
    "#wind_df[['Wind Change, % of Load', 'Wind Change']] = std_scaler_ramp.fit_transform(wind_df[['Wind Change, % of Load', 'Wind Change']])\n",
    "wind_df = wind_df.iloc[:-1,:]\n",
    "wind_df"
   ]
  },
  {
   "cell_type": "code",
   "execution_count": 7,
   "id": "a95ef4b9",
   "metadata": {},
   "outputs": [
    {
     "data": {
      "text/html": [
       "<div>\n",
       "<style scoped>\n",
       "    .dataframe tbody tr th:only-of-type {\n",
       "        vertical-align: middle;\n",
       "    }\n",
       "\n",
       "    .dataframe tbody tr th {\n",
       "        vertical-align: top;\n",
       "    }\n",
       "\n",
       "    .dataframe thead th {\n",
       "        text-align: right;\n",
       "    }\n",
       "</style>\n",
       "<table border=\"1\" class=\"dataframe\">\n",
       "  <thead>\n",
       "    <tr style=\"text-align: right;\">\n",
       "      <th></th>\n",
       "      <th>Year</th>\n",
       "      <th>Wind Change</th>\n",
       "      <th>Wind Output</th>\n",
       "    </tr>\n",
       "  </thead>\n",
       "  <tbody>\n",
       "    <tr>\n",
       "      <th>0</th>\n",
       "      <td>2020</td>\n",
       "      <td>0.620197</td>\n",
       "      <td>0.644724</td>\n",
       "    </tr>\n",
       "    <tr>\n",
       "      <th>1</th>\n",
       "      <td>2020</td>\n",
       "      <td>0.544580</td>\n",
       "      <td>0.658617</td>\n",
       "    </tr>\n",
       "    <tr>\n",
       "      <th>2</th>\n",
       "      <td>2020</td>\n",
       "      <td>0.570751</td>\n",
       "      <td>0.683924</td>\n",
       "    </tr>\n",
       "    <tr>\n",
       "      <th>3</th>\n",
       "      <td>2020</td>\n",
       "      <td>0.599594</td>\n",
       "      <td>0.721813</td>\n",
       "    </tr>\n",
       "    <tr>\n",
       "      <th>4</th>\n",
       "      <td>2020</td>\n",
       "      <td>0.495246</td>\n",
       "      <td>0.714187</td>\n",
       "    </tr>\n",
       "    <tr>\n",
       "      <th>...</th>\n",
       "      <td>...</td>\n",
       "      <td>...</td>\n",
       "      <td>...</td>\n",
       "    </tr>\n",
       "    <tr>\n",
       "      <th>35058</th>\n",
       "      <td>2023</td>\n",
       "      <td>0.774643</td>\n",
       "      <td>0.484984</td>\n",
       "    </tr>\n",
       "    <tr>\n",
       "      <th>35059</th>\n",
       "      <td>2023</td>\n",
       "      <td>0.735512</td>\n",
       "      <td>0.582157</td>\n",
       "    </tr>\n",
       "    <tr>\n",
       "      <th>35060</th>\n",
       "      <td>2023</td>\n",
       "      <td>0.601593</td>\n",
       "      <td>0.620917</td>\n",
       "    </tr>\n",
       "    <tr>\n",
       "      <th>35061</th>\n",
       "      <td>2023</td>\n",
       "      <td>0.536583</td>\n",
       "      <td>0.631322</td>\n",
       "    </tr>\n",
       "    <tr>\n",
       "      <th>35062</th>\n",
       "      <td>2023</td>\n",
       "      <td>0.454969</td>\n",
       "      <td>0.606127</td>\n",
       "    </tr>\n",
       "  </tbody>\n",
       "</table>\n",
       "<p>35063 rows × 3 columns</p>\n",
       "</div>"
      ],
      "text/plain": [
       "       Year  Wind Change  Wind Output\n",
       "0      2020     0.620197     0.644724\n",
       "1      2020     0.544580     0.658617\n",
       "2      2020     0.570751     0.683924\n",
       "3      2020     0.599594     0.721813\n",
       "4      2020     0.495246     0.714187\n",
       "...     ...          ...          ...\n",
       "35058  2023     0.774643     0.484984\n",
       "35059  2023     0.735512     0.582157\n",
       "35060  2023     0.601593     0.620917\n",
       "35061  2023     0.536583     0.631322\n",
       "35062  2023     0.454969     0.606127\n",
       "\n",
       "[35063 rows x 3 columns]"
      ]
     },
     "execution_count": 7,
     "metadata": {},
     "output_type": "execute_result"
    }
   ],
   "source": [
    "ramp_df = pd.DataFrame(wind_df)\n",
    "ramp_df.columns=['Year', 'Wind Change', 'Wind Output']\n",
    "ramp_df"
   ]
  },
  {
   "cell_type": "markdown",
   "id": "d798cf96",
   "metadata": {},
   "source": [
    "## Common Definitions"
   ]
  },
  {
   "cell_type": "code",
   "execution_count": 8,
   "id": "0ec1b61e",
   "metadata": {},
   "outputs": [],
   "source": [
    "def create_dataset(dataset, timesteps, output_timesteps, leadtime):\n",
    "    dataX, dataY = [], []\n",
    "    for i in range(len(dataset) - timesteps -output_timesteps - leadtime - 1):\n",
    "        a = dataset[i:(i + timesteps), :]\n",
    "        dataX.append(a)\n",
    "        dataY.append(dataset[(i + timesteps + leadtime):(i+timesteps+output_timesteps+leadtime), :])\n",
    "    return np.array(dataX), np.array(dataY)\n",
    "\n",
    "def svdadd(X, start, end, b_size):\n",
    "    dec_x = X[start:end, :, :]\n",
    "    U, S, Vh = svd(dec_x.reshape(b_size, -1), full_matrices=True)\n",
    "\n",
    "    high_sig = np.matmul(np.matmul(U[:,:high_ind], np.diag(S[0:high_ind])), Vh[:high_ind,:])\n",
    "    low_sig = X[:dec_num, :, :].reshape(b_size,-1)-high_sig\n",
    "\n",
    "    rec_x = np.zeros((b_size, b_size, high_ind))\n",
    "    \n",
    "    #print(sum(S[0:high_ind])/sum(S))\n",
    "    \n",
    "    for i in range(high_ind):\n",
    "        rec_x[:,:,i] = np.matmul((U[:,i]*S[i]).reshape(-1,1), Vh[i,:].reshape(1,-1))    \n",
    "    return rec_x, low_sig"
   ]
  },
  {
   "cell_type": "code",
   "execution_count": 9,
   "id": "4ec54fba",
   "metadata": {},
   "outputs": [],
   "source": [
    "from sklearn.model_selection import train_test_split\n",
    "from numpy.linalg import svd\n",
    "import gc\n",
    "\n",
    "def MAEMS(y_true, y_pred):\n",
    "    return K.mean((K.abs(y_pred - y_true))*K.square(y_true))*100\n",
    "\n",
    "def MAEMD_1h(y_true, y_pred):\n",
    "    return K.mean((K.abs(y_pred - y_true))*K.square(y_true))*100\n",
    "\n",
    "def mse_mae(y_true, y_pred):\n",
    "    return K.mean(K.square(y_pred - y_true))+K.mean(K.abs(y_pred - y_true))\n",
    "\n",
    "from keras.layers.advanced_activations import PReLU"
   ]
  },
  {
   "cell_type": "markdown",
   "id": "1f3634d0",
   "metadata": {},
   "source": [
    "## Wind Generation Forecasting"
   ]
  },
  {
   "cell_type": "code",
   "execution_count": 10,
   "id": "4e488cac",
   "metadata": {},
   "outputs": [],
   "source": [
    "norm_df = np.array(wind_df.iloc[:,2]).reshape(-1,1)\n",
    "timesteps = 24\n",
    "output_timesteps = 1\n",
    "leadtime = 1\n",
    "num_features = 1\n",
    "X, Y = create_dataset(norm_df, timesteps, output_timesteps, leadtime)\n",
    "b_size = timesteps"
   ]
  },
  {
   "cell_type": "code",
   "execution_count": 11,
   "id": "1f7b14ed",
   "metadata": {},
   "outputs": [],
   "source": [
    "dec_num = timesteps\n",
    "high_ind = 12\n",
    "\n",
    "addX = np.zeros((X.shape[0], dec_num, high_ind+1))\n",
    "\n",
    "for k in range(X.shape[0]//dec_num):\n",
    "    rec_x, low_sig = svdadd(X, k*dec_num, (k+1)*dec_num, b_size)\n",
    "    addX[k*dec_num:k*dec_num+dec_num,:, :-1] = rec_x\n",
    "    addX[k*dec_num:k*dec_num+dec_num,:, -1] = low_sig\n",
    "    \n",
    "rec_x, low_sig = svdadd(X, X.shape[0]-dec_num, X.shape[0], b_size)\n",
    "addX[X.shape[0]-dec_num:X.shape[0], :, :-1] = rec_x\n",
    "addX[X.shape[0]-dec_num:X.shape[0],:, -1] = low_sig\n",
    "\n",
    "addX_det = addX[:, :, :-1]\n",
    "addX_det = np.sum(addX_det, axis=2)\n",
    "X = np.concatenate([X, addX], axis=2)\n",
    "num_features = X.shape[2]"
   ]
  },
  {
   "cell_type": "markdown",
   "id": "091f1c13",
   "metadata": {},
   "source": [
    "## Load and Test Pre-trained Basic Model"
   ]
  },
  {
   "cell_type": "code",
   "execution_count": 12,
   "id": "09aed682",
   "metadata": {},
   "outputs": [
    {
     "data": {
      "text/plain": [
       "((31532, 24, 14), (31532, 1), (3504, 24, 14), (3504, 1))"
      ]
     },
     "execution_count": 12,
     "metadata": {},
     "output_type": "execute_result"
    }
   ],
   "source": [
    "trvaX, teX, trvaY, teY = train_test_split(X, Y, test_size=0.1, shuffle=False)\n",
    "trvaY = trvaY.reshape(-1,output_timesteps)\n",
    "teY = teY.reshape(-1,output_timesteps)\n",
    "trvaX.shape, trvaY.shape, teX.shape, teY.shape"
   ]
  },
  {
   "cell_type": "code",
   "execution_count": 13,
   "id": "333230a4",
   "metadata": {},
   "outputs": [],
   "source": [
    "with tf.device('/gpu:0'):\n",
    "    b_size = output_timesteps*100\n",
    "    wind_model = keras.models.load_model('Basic Model Final_fh1.h5', custom_objects={'MAEMS': MAEMS})\n",
    "    winder_model = keras.models.load_model('Error Learning Model_fh1.h5', custom_objects={'mse_mae': mse_mae})\n",
    "    gc.collect()\n",
    "    trainPredict = wind_model.predict(trvaX, batch_size=b_size)\n",
    "    testPredict = wind_model.predict(teX, batch_size=b_size)"
   ]
  },
  {
   "cell_type": "code",
   "execution_count": 14,
   "id": "bc027acd",
   "metadata": {},
   "outputs": [],
   "source": [
    "def npMAEMS(y_true, y_pred):\n",
    "    return np.mean((abs(y_pred - y_true))*np.square(y_true))*100\n",
    "def npMAEMD(y_true, y_pred):\n",
    "    return np.mean((abs(y_pred - y_true))*np.square(y_true-np.mean(y_true)))*100\n",
    "def npMSE(y_true, y_pred):\n",
    "    return np.mean(np.square(-y_true+y_pred))\n",
    "def npMAE(y_true, y_pred):\n",
    "    return np.mean(abs(-y_true+y_pred))"
   ]
  },
  {
   "cell_type": "code",
   "execution_count": 15,
   "id": "6841d7e3",
   "metadata": {},
   "outputs": [],
   "source": [
    "travaY = trvaY.reshape(-1)\n",
    "trPredict = trainPredict.reshape(-1)\n",
    "testY = teY.reshape(-1)\n",
    "tePredict = testPredict.reshape(-1)"
   ]
  },
  {
   "cell_type": "code",
   "execution_count": 16,
   "id": "8921c079",
   "metadata": {},
   "outputs": [
    {
     "data": {
      "text/plain": [
       "(0.0014765326052411203,\n",
       " 0.02877410665093119,\n",
       " 0.7134286745694425,\n",
       " 0.0014714612314261795,\n",
       " 0.029122771839655996,\n",
       " 0.5567146628634935)"
      ]
     },
     "execution_count": 16,
     "metadata": {},
     "output_type": "execute_result"
    }
   ],
   "source": [
    "npMSE(trPredict, travaY), npMAE(trPredict, travaY), npMAEMS(trPredict, travaY), npMSE(tePredict, testY), npMAE(tePredict, testY), npMAEMS(tePredict, testY)"
   ]
  },
  {
   "cell_type": "code",
   "execution_count": 17,
   "id": "ba8a299f",
   "metadata": {},
   "outputs": [
    {
     "data": {
      "text/plain": [
       "(0.0009010282421876197,\n",
       " 0.02286726532605999,\n",
       " 1.5607565372719516,\n",
       " 0.0011145096324988134,\n",
       " 0.023164220776920638,\n",
       " 1.441543545781946)"
      ]
     },
     "execution_count": 17,
     "metadata": {},
     "output_type": "execute_result"
    }
   ],
   "source": [
    "trPredict = trPredict[(travaY>0.8)]\n",
    "travaY = travaY[(travaY>0.8)]\n",
    "tePredict = tePredict[(testY>0.8)]\n",
    "testY = testY[(testY>0.8)]\n",
    "npMSE(trPredict, travaY), npMAE(trPredict, travaY), npMAEMS(trPredict, travaY), npMSE(tePredict, testY), npMAE(tePredict, testY), npMAEMS(tePredict, testY)"
   ]
  },
  {
   "cell_type": "code",
   "execution_count": 18,
   "id": "0cab6476",
   "metadata": {},
   "outputs": [],
   "source": [
    "errors = trainPredict - trvaY\n",
    "prediction = trainPredict"
   ]
  },
  {
   "cell_type": "code",
   "execution_count": 19,
   "id": "c1a4d390",
   "metadata": {},
   "outputs": [
    {
     "data": {
      "text/plain": [
       "(31532, 1)"
      ]
     },
     "execution_count": 19,
     "metadata": {},
     "output_type": "execute_result"
    }
   ],
   "source": [
    "norm_df2 = pd.DataFrame(norm_df).iloc[timesteps:trvaX.shape[0]+timesteps, :]\n",
    "norm_df2.columns = ['Normalized Wind']\n",
    "norm_df2 = norm_df2.reset_index(drop=True)\n",
    "norm_df2.shape"
   ]
  },
  {
   "cell_type": "markdown",
   "id": "480f3136",
   "metadata": {},
   "source": [
    "## Load and Test Pre-trained FFEL Model"
   ]
  },
  {
   "cell_type": "code",
   "execution_count": 20,
   "id": "dfa51a79",
   "metadata": {},
   "outputs": [
    {
     "data": {
      "text/html": [
       "<div>\n",
       "<style scoped>\n",
       "    .dataframe tbody tr th:only-of-type {\n",
       "        vertical-align: middle;\n",
       "    }\n",
       "\n",
       "    .dataframe tbody tr th {\n",
       "        vertical-align: top;\n",
       "    }\n",
       "\n",
       "    .dataframe thead th {\n",
       "        text-align: right;\n",
       "    }\n",
       "</style>\n",
       "<table border=\"1\" class=\"dataframe\">\n",
       "  <thead>\n",
       "    <tr style=\"text-align: right;\">\n",
       "      <th></th>\n",
       "      <th>Normalized Wind</th>\n",
       "      <th>Prediction1</th>\n",
       "      <th>Error1</th>\n",
       "    </tr>\n",
       "  </thead>\n",
       "  <tbody>\n",
       "    <tr>\n",
       "      <th>0</th>\n",
       "      <td>0.726913</td>\n",
       "      <td>0.705698</td>\n",
       "      <td>-0.008974</td>\n",
       "    </tr>\n",
       "    <tr>\n",
       "      <th>1</th>\n",
       "      <td>0.714673</td>\n",
       "      <td>0.735707</td>\n",
       "      <td>-0.011706</td>\n",
       "    </tr>\n",
       "    <tr>\n",
       "      <th>2</th>\n",
       "      <td>0.747412</td>\n",
       "      <td>0.767117</td>\n",
       "      <td>0.028302</td>\n",
       "    </tr>\n",
       "    <tr>\n",
       "      <th>3</th>\n",
       "      <td>0.738814</td>\n",
       "      <td>0.781181</td>\n",
       "      <td>0.073649</td>\n",
       "    </tr>\n",
       "    <tr>\n",
       "      <th>4</th>\n",
       "      <td>0.707532</td>\n",
       "      <td>0.730203</td>\n",
       "      <td>0.049193</td>\n",
       "    </tr>\n",
       "    <tr>\n",
       "      <th>...</th>\n",
       "      <td>...</td>\n",
       "      <td>...</td>\n",
       "      <td>...</td>\n",
       "    </tr>\n",
       "    <tr>\n",
       "      <th>31527</th>\n",
       "      <td>0.272763</td>\n",
       "      <td>0.332515</td>\n",
       "      <td>0.009341</td>\n",
       "    </tr>\n",
       "    <tr>\n",
       "      <th>31528</th>\n",
       "      <td>0.323174</td>\n",
       "      <td>0.378504</td>\n",
       "      <td>-0.003796</td>\n",
       "    </tr>\n",
       "    <tr>\n",
       "      <th>31529</th>\n",
       "      <td>0.382300</td>\n",
       "      <td>0.430836</td>\n",
       "      <td>-0.015123</td>\n",
       "    </tr>\n",
       "    <tr>\n",
       "      <th>31530</th>\n",
       "      <td>0.445958</td>\n",
       "      <td>0.532108</td>\n",
       "      <td>0.017540</td>\n",
       "    </tr>\n",
       "    <tr>\n",
       "      <th>31531</th>\n",
       "      <td>0.514567</td>\n",
       "      <td>0.634929</td>\n",
       "      <td>0.046279</td>\n",
       "    </tr>\n",
       "  </tbody>\n",
       "</table>\n",
       "<p>31532 rows × 3 columns</p>\n",
       "</div>"
      ],
      "text/plain": [
       "       Normalized Wind  Prediction1    Error1\n",
       "0             0.726913     0.705698 -0.008974\n",
       "1             0.714673     0.735707 -0.011706\n",
       "2             0.747412     0.767117  0.028302\n",
       "3             0.738814     0.781181  0.073649\n",
       "4             0.707532     0.730203  0.049193\n",
       "...                ...          ...       ...\n",
       "31527         0.272763     0.332515  0.009341\n",
       "31528         0.323174     0.378504 -0.003796\n",
       "31529         0.382300     0.430836 -0.015123\n",
       "31530         0.445958     0.532108  0.017540\n",
       "31531         0.514567     0.634929  0.046279\n",
       "\n",
       "[31532 rows x 3 columns]"
      ]
     },
     "execution_count": 20,
     "metadata": {},
     "output_type": "execute_result"
    }
   ],
   "source": [
    "Prindex = ['Prediction1']\n",
    "Erindex = ['Error1']\n",
    "\n",
    "pr_df = pd.DataFrame(prediction, columns=Prindex)\n",
    "er_df = pd.DataFrame(errors, columns=Erindex)\n",
    "norm_df2 = pd.concat([norm_df2, pr_df, er_df],axis=1)\n",
    "norm_df2"
   ]
  },
  {
   "cell_type": "code",
   "execution_count": 21,
   "id": "9e444b2e",
   "metadata": {},
   "outputs": [
    {
     "data": {
      "text/plain": [
       "(31506, 24, 3)"
      ]
     },
     "execution_count": 21,
     "metadata": {},
     "output_type": "execute_result"
    }
   ],
   "source": [
    "norm_df2 = np.array(norm_df2)\n",
    "Xe, Ye = create_dataset(norm_df2, timesteps, 1, 0)\n",
    "Xe.shape"
   ]
  },
  {
   "cell_type": "code",
   "execution_count": 22,
   "id": "069e99a2",
   "metadata": {},
   "outputs": [],
   "source": [
    "trvaXe = Xe\n",
    "trvaYe = Ye[:,:,-output_timesteps:].reshape(-1,output_timesteps)"
   ]
  },
  {
   "cell_type": "code",
   "execution_count": 23,
   "id": "b2ac9ba1",
   "metadata": {},
   "outputs": [],
   "source": [
    "with tf.device('/gpu:0'):\n",
    "    trainerPredict = winder_model.predict(trvaXe, batch_size=b_size)"
   ]
  },
  {
   "cell_type": "code",
   "execution_count": 24,
   "id": "a63bf5d0",
   "metadata": {},
   "outputs": [],
   "source": [
    "addtrainPredict = trainPredict[timesteps:-2,:]-trainerPredict\n",
    "#addtestPredict = testPredict[timesteps:-2,:]-testerPredict"
   ]
  },
  {
   "cell_type": "code",
   "execution_count": 25,
   "id": "aa5ef846",
   "metadata": {},
   "outputs": [],
   "source": [
    "errors = testPredict - teY\n",
    "prediction = testPredict\n",
    "\n",
    "norm_df2 = pd.DataFrame(norm_df).iloc[trvaX.shape[0]+timesteps:trvaX.shape[0]+timesteps+teY.shape[0], :]\n",
    "norm_df2.columns = ['Normalized Wind']\n",
    "norm_df2 = norm_df2.reset_index(drop=True)\n",
    "\n",
    "Prindex = ['Prediction1']\n",
    "Erindex = ['Error1']\n",
    "\n",
    "pr_df = pd.DataFrame(prediction, columns=Prindex)\n",
    "er_df = pd.DataFrame(errors, columns=Erindex)\n",
    "\n",
    "norm_df2 = pd.concat([norm_df2, pr_df, er_df],axis=1)\n",
    "norm_df2 = np.array(norm_df2)\n",
    "output_timesteps = 1\n",
    "Xe, Ye = create_dataset(norm_df2, timesteps, output_timesteps,0)\n",
    "teXe = Xe\n",
    "teYe = Ye[:,:,-output_timesteps:].reshape(-1,output_timesteps)"
   ]
  },
  {
   "cell_type": "code",
   "execution_count": 26,
   "id": "2515fdd8",
   "metadata": {},
   "outputs": [],
   "source": [
    "with tf.device('/gpu:0'):\n",
    "    #trainerPredict = winder_model.predict(trvaXe, batch_size=b_size)\n",
    "    testerPredict = winder_model.predict(teXe, batch_size=b_size)"
   ]
  },
  {
   "cell_type": "code",
   "execution_count": 27,
   "id": "609acd2d",
   "metadata": {},
   "outputs": [],
   "source": [
    "#addtrainPredict = trainPredict[timesteps:-2,:]-trainerPredict\n",
    "addtestPredict = testPredict[timesteps:-2,:]-testerPredict"
   ]
  },
  {
   "cell_type": "code",
   "execution_count": 28,
   "id": "02830692",
   "metadata": {},
   "outputs": [
    {
     "name": "stdout",
     "output_type": "stream",
     "text": [
      "Error Train Score > MSE ==  0.0014734755989471828  MAE ==  0.02875455660224634  MAPE ==  inf\n",
      "Error Train Score > MSE ==  0.0008121420726668971  MAE ==  0.021362751220787  MAPE ==  inf\n",
      "Error Test Score > MSE ==  0.0014524701411472067  MAE ==  0.02898474054227111  MAPE ==  11.96688290143424  MAEMS ==  0.11373773684502232\n",
      "Error Test Score > MSE ==  0.0007381920602187625  MAE ==  0.020467884144792597  MAPE ==  8.26832110476965  MAEMS ==  0.08135952452115607\n"
     ]
    }
   ],
   "source": [
    "print('Error Train Score > MSE == ', (np.mean(np.square(trvaY[timesteps:-2,:]-trainPredict[timesteps:-2,:]))), ' MAE == ', mean_absolute_error(trvaY[timesteps:-2,:], trainPredict[timesteps:-2,:]), ' MAPE == ', mean_absolute_percentage_error(trvaY[timesteps:-2,:], trainPredict[timesteps:-2,:]), )\n",
    "print('Error Train Score > MSE == ', (np.mean(np.square(trvaY[timesteps:-2,:]-addtrainPredict))), ' MAE == ', mean_absolute_error(trvaY[timesteps:-2,:], addtrainPredict), ' MAPE == ', mean_absolute_percentage_error(trvaY[timesteps:-2,:], addtrainPredict))\n",
    "print('Error Test Score > MSE == ', (np.mean(np.square(teY[timesteps:-2,:]-testPredict[timesteps:-2,:]))), ' MAE == ', mean_absolute_error(teY[timesteps:-2,:], testPredict[timesteps:-2,:]), ' MAPE == ', mean_absolute_percentage_error(teY[timesteps:-2,:], testPredict[timesteps:-2,:]), ' MAEMS == ', np.mean((abs(testPredict[timesteps:-2,:] - teY[timesteps:-2,:]))*np.square(teY[timesteps:-2,:]-np.mean(teY[timesteps:-2,:])))*100)\n",
    "print('Error Test Score > MSE == ', (np.mean(np.square(teY[timesteps:-2,:]-addtestPredict))), ' MAE == ', mean_absolute_error(teY[timesteps:-2,:], addtestPredict), ' MAPE == ', mean_absolute_percentage_error(teY[timesteps:-2,:], addtestPredict), ' MAEMS == ', np.mean((abs(addtestPredict - teY[timesteps:-2,:]))*np.square(teY[timesteps:-2,:]-np.mean(teY[timesteps:-2,:])))*100)"
   ]
  },
  {
   "cell_type": "code",
   "execution_count": 29,
   "id": "60dd885b",
   "metadata": {},
   "outputs": [],
   "source": [
    "result_tr = np.concatenate([addtrainPredict.reshape(-1,1), trvaY[timesteps:-2,:].reshape(-1,1), trvaY[timesteps:-2,:].reshape(-1,1)-addtrainPredict.reshape(-1,1), trainPredict[timesteps:-2,:].reshape(-1,1)], axis=1)\n",
    "result_te = np.concatenate([addtestPredict.reshape(-1,1), teY[timesteps:-2,:].reshape(-1,1), teY[timesteps:-2,:].reshape(-1,1)-addtestPredict.reshape(-1,1), testPredict[timesteps:-2,:].reshape(-1,1)], axis=1)\n",
    "\n",
    "result_tr_df = pd.DataFrame(result_tr, columns=['Predicted Value','Real Value','Forecasting Error', 'Initial Predicted Value'])\n",
    "result_te_df = pd.DataFrame(result_te, columns=['Predicted Value','Real Value','Forecasting Error', 'Initial Predicted Value'])"
   ]
  },
  {
   "cell_type": "code",
   "execution_count": 30,
   "id": "16da942f",
   "metadata": {},
   "outputs": [
    {
     "data": {
      "text/plain": [
       "((3478, 1), (3478, 1))"
      ]
     },
     "execution_count": 30,
     "metadata": {},
     "output_type": "execute_result"
    }
   ],
   "source": [
    "teY[timesteps:-2,:].reshape(-1,1).shape, addtestPredict.reshape(-1,1).shape"
   ]
  },
  {
   "cell_type": "code",
   "execution_count": 31,
   "id": "158a85b7",
   "metadata": {},
   "outputs": [
    {
     "data": {
      "text/html": [
       "<div>\n",
       "<style scoped>\n",
       "    .dataframe tbody tr th:only-of-type {\n",
       "        vertical-align: middle;\n",
       "    }\n",
       "\n",
       "    .dataframe tbody tr th {\n",
       "        vertical-align: top;\n",
       "    }\n",
       "\n",
       "    .dataframe thead th {\n",
       "        text-align: right;\n",
       "    }\n",
       "</style>\n",
       "<table border=\"1\" class=\"dataframe\">\n",
       "  <thead>\n",
       "    <tr style=\"text-align: right;\">\n",
       "      <th></th>\n",
       "      <th>Predicted Value</th>\n",
       "      <th>Real Value</th>\n",
       "      <th>Forecasting Error</th>\n",
       "      <th>Initial Predicted Value</th>\n",
       "    </tr>\n",
       "  </thead>\n",
       "  <tbody>\n",
       "    <tr>\n",
       "      <th>0</th>\n",
       "      <td>0.646594</td>\n",
       "      <td>0.670123</td>\n",
       "      <td>0.023529</td>\n",
       "      <td>0.609773</td>\n",
       "    </tr>\n",
       "    <tr>\n",
       "      <th>1</th>\n",
       "      <td>0.665638</td>\n",
       "      <td>0.750445</td>\n",
       "      <td>0.084807</td>\n",
       "      <td>0.606833</td>\n",
       "    </tr>\n",
       "    <tr>\n",
       "      <th>2</th>\n",
       "      <td>0.793259</td>\n",
       "      <td>0.797475</td>\n",
       "      <td>0.004215</td>\n",
       "      <td>0.714690</td>\n",
       "    </tr>\n",
       "    <tr>\n",
       "      <th>3</th>\n",
       "      <td>0.725028</td>\n",
       "      <td>0.759475</td>\n",
       "      <td>0.034447</td>\n",
       "      <td>0.720495</td>\n",
       "    </tr>\n",
       "    <tr>\n",
       "      <th>4</th>\n",
       "      <td>0.675979</td>\n",
       "      <td>0.705090</td>\n",
       "      <td>0.029111</td>\n",
       "      <td>0.670945</td>\n",
       "    </tr>\n",
       "    <tr>\n",
       "      <th>...</th>\n",
       "      <td>...</td>\n",
       "      <td>...</td>\n",
       "      <td>...</td>\n",
       "      <td>...</td>\n",
       "    </tr>\n",
       "    <tr>\n",
       "      <th>3473</th>\n",
       "      <td>0.278960</td>\n",
       "      <td>0.293595</td>\n",
       "      <td>0.014636</td>\n",
       "      <td>0.287992</td>\n",
       "    </tr>\n",
       "    <tr>\n",
       "      <th>3474</th>\n",
       "      <td>0.310148</td>\n",
       "      <td>0.311174</td>\n",
       "      <td>0.001026</td>\n",
       "      <td>0.312126</td>\n",
       "    </tr>\n",
       "    <tr>\n",
       "      <th>3475</th>\n",
       "      <td>0.322091</td>\n",
       "      <td>0.341026</td>\n",
       "      <td>0.018935</td>\n",
       "      <td>0.331235</td>\n",
       "    </tr>\n",
       "    <tr>\n",
       "      <th>3476</th>\n",
       "      <td>0.349877</td>\n",
       "      <td>0.370742</td>\n",
       "      <td>0.020865</td>\n",
       "      <td>0.335922</td>\n",
       "    </tr>\n",
       "    <tr>\n",
       "      <th>3477</th>\n",
       "      <td>0.408266</td>\n",
       "      <td>0.484984</td>\n",
       "      <td>0.076717</td>\n",
       "      <td>0.399632</td>\n",
       "    </tr>\n",
       "  </tbody>\n",
       "</table>\n",
       "<p>3478 rows × 4 columns</p>\n",
       "</div>"
      ],
      "text/plain": [
       "      Predicted Value  Real Value  Forecasting Error  Initial Predicted Value\n",
       "0            0.646594    0.670123           0.023529                 0.609773\n",
       "1            0.665638    0.750445           0.084807                 0.606833\n",
       "2            0.793259    0.797475           0.004215                 0.714690\n",
       "3            0.725028    0.759475           0.034447                 0.720495\n",
       "4            0.675979    0.705090           0.029111                 0.670945\n",
       "...               ...         ...                ...                      ...\n",
       "3473         0.278960    0.293595           0.014636                 0.287992\n",
       "3474         0.310148    0.311174           0.001026                 0.312126\n",
       "3475         0.322091    0.341026           0.018935                 0.331235\n",
       "3476         0.349877    0.370742           0.020865                 0.335922\n",
       "3477         0.408266    0.484984           0.076717                 0.399632\n",
       "\n",
       "[3478 rows x 4 columns]"
      ]
     },
     "execution_count": 31,
     "metadata": {},
     "output_type": "execute_result"
    }
   ],
   "source": [
    "result_te_df"
   ]
  },
  {
   "cell_type": "code",
   "execution_count": 32,
   "id": "4ccb6d87",
   "metadata": {},
   "outputs": [],
   "source": [
    "error_tr_FFEL = trvaY[timesteps:-2,:].reshape(-1,1)-addtrainPredict.reshape(-1,1)\n",
    "error_tr_basic = trvaY[timesteps:-2,:].reshape(-1,1)-trainPredict[timesteps:-2,:].reshape(-1,1)\n",
    "error_te_FFEL = teY[timesteps:-2,:].reshape(-1,1)-addtestPredict.reshape(-1,1)\n",
    "error_te_basic = teY[timesteps:-2,:].reshape(-1,1)-testPredict[timesteps:-2,:].reshape(-1,1)"
   ]
  },
  {
   "cell_type": "code",
   "execution_count": 33,
   "id": "6073474c",
   "metadata": {},
   "outputs": [
    {
     "data": {
      "text/plain": [
       "(0.0006882603798271153,\n",
       " 0.0008116683703164573,\n",
       " -0.0011741212317119846,\n",
       " 0.0014720970382804258,\n",
       " 0.001012927875586502,\n",
       " 0.0007371660373376223,\n",
       " 0.0014848148186632612,\n",
       " 0.001450265466101485)"
      ]
     },
     "execution_count": 33,
     "metadata": {},
     "output_type": "execute_result"
    }
   ],
   "source": [
    "np.mean(error_tr_FFEL), np.var(error_tr_FFEL), np.mean(error_tr_basic), np.var(error_tr_basic), np.mean(error_te_FFEL),np.var(error_te_FFEL), np.mean(error_te_basic), np.var(error_te_basic)"
   ]
  },
  {
   "cell_type": "code",
   "execution_count": 34,
   "id": "66fd3ed3",
   "metadata": {},
   "outputs": [],
   "source": [
    "result_tr_df.to_csv('training_result_df_fh1.csv')\n",
    "result_te_df.to_csv('test_result_df_fh1.csv')"
   ]
  },
  {
   "cell_type": "markdown",
   "id": "f2745706",
   "metadata": {},
   "source": [
    "# Ramp Rate Forecasting"
   ]
  },
  {
   "cell_type": "code",
   "execution_count": 35,
   "id": "bc356b55",
   "metadata": {},
   "outputs": [],
   "source": [
    "norm_df = np.array(wind_df.iloc[:,1]).reshape(-1,1)\n",
    "timesteps = 24\n",
    "output_timesteps = 1\n",
    "leadtime = 1\n",
    "num_features = 1\n",
    "X, Y = create_dataset(norm_df, timesteps, output_timesteps, leadtime)\n",
    "b_size = timesteps"
   ]
  },
  {
   "cell_type": "code",
   "execution_count": 36,
   "id": "bc3808c9",
   "metadata": {},
   "outputs": [
    {
     "data": {
      "text/plain": [
       "((35036, 24, 1), (35036, 1, 1))"
      ]
     },
     "execution_count": 36,
     "metadata": {},
     "output_type": "execute_result"
    }
   ],
   "source": [
    "X.shape, Y.shape"
   ]
  },
  {
   "cell_type": "code",
   "execution_count": 37,
   "id": "6c99453f",
   "metadata": {},
   "outputs": [],
   "source": [
    "dec_num = timesteps\n",
    "high_ind = 12\n",
    "\n",
    "addX = np.zeros((X.shape[0], dec_num, high_ind+1))\n",
    "\n",
    "for k in range(X.shape[0]//dec_num):\n",
    "    rec_x, low_sig = svdadd(X, k*dec_num, (k+1)*dec_num, b_size)\n",
    "    addX[k*dec_num:k*dec_num+dec_num,:, :-1] = rec_x\n",
    "    addX[k*dec_num:k*dec_num+dec_num,:, -1] = low_sig\n",
    "    \n",
    "rec_x, low_sig = svdadd(X, X.shape[0]-dec_num, X.shape[0], b_size)\n",
    "addX[X.shape[0]-dec_num:X.shape[0], :, :-1] = rec_x\n",
    "addX[X.shape[0]-dec_num:X.shape[0],:, -1] = low_sig\n",
    "\n",
    "addX_det = addX[:, :, :-1]\n",
    "addX_det = np.sum(addX_det, axis=2)\n",
    "X = np.concatenate([X, addX], axis=2)\n",
    "num_features = X.shape[2]"
   ]
  },
  {
   "cell_type": "markdown",
   "id": "7a6e3f57",
   "metadata": {},
   "source": [
    "## Load and Test Pre-trained Basic Model"
   ]
  },
  {
   "cell_type": "code",
   "execution_count": 38,
   "id": "4d4fe49f",
   "metadata": {},
   "outputs": [
    {
     "data": {
      "text/plain": [
       "((31532, 24, 14), (31532, 1), (3504, 24, 14), (3504, 1))"
      ]
     },
     "execution_count": 38,
     "metadata": {},
     "output_type": "execute_result"
    }
   ],
   "source": [
    "trvaX, teX, trvaY, teY = train_test_split(X, Y, test_size=0.1, shuffle=False)\n",
    "trvaY = trvaY.reshape(-1,output_timesteps)\n",
    "teY = teY.reshape(-1,output_timesteps)\n",
    "trvaX.shape, trvaY.shape, teX.shape, teY.shape"
   ]
  },
  {
   "cell_type": "code",
   "execution_count": 39,
   "id": "5f6e5d15",
   "metadata": {},
   "outputs": [
    {
     "data": {
      "text/plain": [
       "4178"
      ]
     },
     "execution_count": 39,
     "metadata": {},
     "output_type": "execute_result"
    }
   ],
   "source": [
    "gc.collect()"
   ]
  },
  {
   "cell_type": "code",
   "execution_count": 40,
   "id": "bfcd4b62",
   "metadata": {},
   "outputs": [],
   "source": [
    "with tf.device('/gpu:0'):\n",
    "    b_size = output_timesteps*100\n",
    "    ramp_model = keras.models.load_model('Basic Ramp Model Final_fh1.h5', custom_objects={'MAEMD_1h': MAEMD_1h})\n",
    "    ramper_model = keras.models.load_model('Error Learning Ramp Model_fh1.h5', custom_objects={'mse_mae': mse_mae})\n",
    "    gc.collect()\n",
    "    trainPredict = ramp_model.predict(trvaX, batch_size=b_size)\n",
    "    testPredict = ramp_model.predict(teX, batch_size=b_size)"
   ]
  },
  {
   "cell_type": "code",
   "execution_count": 41,
   "id": "610d180c",
   "metadata": {},
   "outputs": [],
   "source": [
    "def npMAEMS(y_true, y_pred):\n",
    "    return np.mean((abs(y_pred - y_true))*np.square(y_true))*100\n",
    "def npMAEMD(y_true, y_pred):\n",
    "    return np.mean((abs(y_pred - y_true))*np.square(y_true-np.mean(y_true)))*100\n",
    "def npMSE(y_true, y_pred):\n",
    "    return np.mean(np.square(-y_true+y_pred))\n",
    "def npMAE(y_true, y_pred):\n",
    "    return np.mean(abs(-y_true+y_pred))"
   ]
  },
  {
   "cell_type": "code",
   "execution_count": 42,
   "id": "00f08e4b",
   "metadata": {},
   "outputs": [],
   "source": [
    "errors = trainPredict - trvaY\n",
    "prediction = trainPredict"
   ]
  },
  {
   "cell_type": "code",
   "execution_count": 43,
   "id": "8cdd99f6",
   "metadata": {},
   "outputs": [
    {
     "data": {
      "text/plain": [
       "(31532, 1)"
      ]
     },
     "execution_count": 43,
     "metadata": {},
     "output_type": "execute_result"
    }
   ],
   "source": [
    "norm_df2 = pd.DataFrame(norm_df).iloc[timesteps:trvaX.shape[0]+timesteps, :]\n",
    "norm_df2.columns = ['Normalized Wind']\n",
    "norm_df2 = norm_df2.reset_index(drop=True)\n",
    "norm_df2.shape"
   ]
  },
  {
   "cell_type": "markdown",
   "id": "6a470055",
   "metadata": {},
   "source": [
    "## Load and Test Pre-trained FFEL Model"
   ]
  },
  {
   "cell_type": "code",
   "execution_count": 44,
   "id": "2e1477ad",
   "metadata": {},
   "outputs": [
    {
     "data": {
      "text/html": [
       "<div>\n",
       "<style scoped>\n",
       "    .dataframe tbody tr th:only-of-type {\n",
       "        vertical-align: middle;\n",
       "    }\n",
       "\n",
       "    .dataframe tbody tr th {\n",
       "        vertical-align: top;\n",
       "    }\n",
       "\n",
       "    .dataframe thead th {\n",
       "        text-align: right;\n",
       "    }\n",
       "</style>\n",
       "<table border=\"1\" class=\"dataframe\">\n",
       "  <thead>\n",
       "    <tr style=\"text-align: right;\">\n",
       "      <th></th>\n",
       "      <th>Normalized Wind</th>\n",
       "      <th>Prediction1</th>\n",
       "      <th>Error1</th>\n",
       "    </tr>\n",
       "  </thead>\n",
       "  <tbody>\n",
       "    <tr>\n",
       "      <th>0</th>\n",
       "      <td>0.553489</td>\n",
       "      <td>0.514616</td>\n",
       "      <td>0.029950</td>\n",
       "    </tr>\n",
       "    <tr>\n",
       "      <th>1</th>\n",
       "      <td>0.484666</td>\n",
       "      <td>0.514230</td>\n",
       "      <td>-0.073559</td>\n",
       "    </tr>\n",
       "    <tr>\n",
       "      <th>2</th>\n",
       "      <td>0.587790</td>\n",
       "      <td>0.538362</td>\n",
       "      <td>0.045344</td>\n",
       "    </tr>\n",
       "    <tr>\n",
       "      <th>3</th>\n",
       "      <td>0.493018</td>\n",
       "      <td>0.535952</td>\n",
       "      <td>0.094940</td>\n",
       "    </tr>\n",
       "    <tr>\n",
       "      <th>4</th>\n",
       "      <td>0.441011</td>\n",
       "      <td>0.507150</td>\n",
       "      <td>0.055225</td>\n",
       "    </tr>\n",
       "    <tr>\n",
       "      <th>...</th>\n",
       "      <td>...</td>\n",
       "      <td>...</td>\n",
       "      <td>...</td>\n",
       "    </tr>\n",
       "    <tr>\n",
       "      <th>31527</th>\n",
       "      <td>0.557089</td>\n",
       "      <td>0.651483</td>\n",
       "      <td>0.023180</td>\n",
       "    </tr>\n",
       "    <tr>\n",
       "      <th>31528</th>\n",
       "      <td>0.628303</td>\n",
       "      <td>0.682623</td>\n",
       "      <td>0.034338</td>\n",
       "    </tr>\n",
       "    <tr>\n",
       "      <th>31529</th>\n",
       "      <td>0.648285</td>\n",
       "      <td>0.762604</td>\n",
       "      <td>0.103929</td>\n",
       "    </tr>\n",
       "    <tr>\n",
       "      <th>31530</th>\n",
       "      <td>0.658675</td>\n",
       "      <td>0.697734</td>\n",
       "      <td>0.027710</td>\n",
       "    </tr>\n",
       "    <tr>\n",
       "      <th>31531</th>\n",
       "      <td>0.670024</td>\n",
       "      <td>0.770028</td>\n",
       "      <td>0.087455</td>\n",
       "    </tr>\n",
       "  </tbody>\n",
       "</table>\n",
       "<p>31532 rows × 3 columns</p>\n",
       "</div>"
      ],
      "text/plain": [
       "       Normalized Wind  Prediction1    Error1\n",
       "0             0.553489     0.514616  0.029950\n",
       "1             0.484666     0.514230 -0.073559\n",
       "2             0.587790     0.538362  0.045344\n",
       "3             0.493018     0.535952  0.094940\n",
       "4             0.441011     0.507150  0.055225\n",
       "...                ...          ...       ...\n",
       "31527         0.557089     0.651483  0.023180\n",
       "31528         0.628303     0.682623  0.034338\n",
       "31529         0.648285     0.762604  0.103929\n",
       "31530         0.658675     0.697734  0.027710\n",
       "31531         0.670024     0.770028  0.087455\n",
       "\n",
       "[31532 rows x 3 columns]"
      ]
     },
     "execution_count": 44,
     "metadata": {},
     "output_type": "execute_result"
    }
   ],
   "source": [
    "Prindex = ['Prediction1']\n",
    "Erindex = ['Error1']\n",
    "\n",
    "pr_df = pd.DataFrame(prediction, columns=Prindex)\n",
    "er_df = pd.DataFrame(errors, columns=Erindex)\n",
    "norm_df2 = pd.concat([norm_df2, pr_df, er_df],axis=1)\n",
    "norm_df2"
   ]
  },
  {
   "cell_type": "code",
   "execution_count": 45,
   "id": "285e0c2d",
   "metadata": {},
   "outputs": [
    {
     "data": {
      "text/plain": [
       "(31506, 24, 3)"
      ]
     },
     "execution_count": 45,
     "metadata": {},
     "output_type": "execute_result"
    }
   ],
   "source": [
    "norm_df2 = np.array(norm_df2)\n",
    "output_timesteps = 1\n",
    "Xe, Ye = create_dataset(norm_df2, timesteps, output_timesteps,0)\n",
    "Xe.shape"
   ]
  },
  {
   "cell_type": "code",
   "execution_count": 46,
   "id": "1f657ff7",
   "metadata": {},
   "outputs": [],
   "source": [
    "trvaXe = Xe\n",
    "trvaYe = Ye[:,:,-output_timesteps:].reshape(-1,output_timesteps)"
   ]
  },
  {
   "cell_type": "code",
   "execution_count": 47,
   "id": "7c209c2d",
   "metadata": {},
   "outputs": [],
   "source": [
    "with tf.device('/gpu:0'):\n",
    "    trainerPredict = ramper_model.predict(trvaXe, batch_size=b_size)"
   ]
  },
  {
   "cell_type": "code",
   "execution_count": 48,
   "id": "9e320a95",
   "metadata": {},
   "outputs": [],
   "source": [
    "addtrainPredict = trainPredict[timesteps:-2,:]-trainerPredict\n",
    "#addtestPredict = testPredict[timesteps:-2,:]-testerPredict"
   ]
  },
  {
   "cell_type": "code",
   "execution_count": 49,
   "id": "dd88f34d",
   "metadata": {},
   "outputs": [],
   "source": [
    "errors = testPredict - teY\n",
    "prediction = testPredict\n",
    "\n",
    "norm_df2 = pd.DataFrame(norm_df).iloc[trvaX.shape[0]+timesteps:trvaX.shape[0]+timesteps+teY.shape[0], :]\n",
    "norm_df2.columns = ['Normalized Wind']\n",
    "norm_df2 = norm_df2.reset_index(drop=True)\n",
    "\n",
    "Prindex = ['Prediction1']\n",
    "Erindex = ['Error1']\n",
    "\n",
    "pr_df = pd.DataFrame(prediction, columns=Prindex)\n",
    "er_df = pd.DataFrame(errors, columns=Erindex)\n",
    "\n",
    "norm_df2 = pd.concat([norm_df2, pr_df, er_df],axis=1)\n",
    "norm_df2 = np.array(norm_df2)\n",
    "output_timesteps = 1\n",
    "Xe, Ye = create_dataset(norm_df2, timesteps, output_timesteps,0)\n",
    "teXe = Xe\n",
    "teYe = Ye[:,:,-output_timesteps:].reshape(-1,output_timesteps)"
   ]
  },
  {
   "cell_type": "code",
   "execution_count": 50,
   "id": "314b8f21",
   "metadata": {},
   "outputs": [],
   "source": [
    "with tf.device('/gpu:0'):\n",
    "    #trainerPredict = winder_model.predict(trvaXe, batch_size=b_size)\n",
    "    testerPredict = ramper_model.predict(teXe, batch_size=b_size)"
   ]
  },
  {
   "cell_type": "code",
   "execution_count": 51,
   "id": "a732676d",
   "metadata": {},
   "outputs": [],
   "source": [
    "#addtrainPredict = trainPredict[timesteps:-2,:]-trainerPredict\n",
    "addtestPredict = testPredict[timesteps:-2,:]-testerPredict"
   ]
  },
  {
   "cell_type": "code",
   "execution_count": 52,
   "id": "967bf136",
   "metadata": {},
   "outputs": [
    {
     "name": "stdout",
     "output_type": "stream",
     "text": [
      "Error Train Score > MSE ==  0.006472728215876023  MAE ==  0.05925505117287631  MAPE ==  inf\n",
      "Error Train Score > MSE ==  0.003916463884504097  MAE ==  0.045729985024268914  MAPE ==  inf\n",
      "Error Test Score > MSE ==  0.005630743764962211  MAE ==  0.05713346838100066  MAPE ==  12.796280337116784  MAEMS ==  0.08566324032642772\n",
      "Error Test Score > MSE ==  0.0031991559723526554  MAE ==  0.04227892611108739  MAPE ==  8.801453825321657  MAEMS ==  0.06390341009314367\n"
     ]
    }
   ],
   "source": [
    "print('Error Train Score > MSE == ', (np.mean(np.square(trvaY[timesteps:-2,:]-trainPredict[timesteps:-2,:]))), ' MAE == ', mean_absolute_error(trvaY[timesteps:-2,:], trainPredict[timesteps:-2,:]), ' MAPE == ', mean_absolute_percentage_error(trvaY[timesteps:-2,:], trainPredict[timesteps:-2,:]), )\n",
    "print('Error Train Score > MSE == ', (np.mean(np.square(trvaY[timesteps:-2,:]-addtrainPredict))), ' MAE == ', mean_absolute_error(trvaY[timesteps:-2,:], addtrainPredict), ' MAPE == ', mean_absolute_percentage_error(trvaY[timesteps:-2,:], addtrainPredict))\n",
    "print('Error Test Score > MSE == ', (np.mean(np.square(teY[timesteps:-2,:]-testPredict[timesteps:-2,:]))), ' MAE == ', mean_absolute_error(teY[timesteps:-2,:], testPredict[timesteps:-2,:]), ' MAPE == ', mean_absolute_percentage_error(teY[timesteps:-2,:], testPredict[timesteps:-2,:]), ' MAEMS == ', np.mean((abs(testPredict[timesteps:-2,:] - teY[timesteps:-2,:]))*np.square(teY[timesteps:-2,:]-np.mean(teY[timesteps:-2,:])))*100)\n",
    "print('Error Test Score > MSE == ', (np.mean(np.square(teY[timesteps:-2,:]-addtestPredict))), ' MAE == ', mean_absolute_error(teY[timesteps:-2,:], addtestPredict), ' MAPE == ', mean_absolute_percentage_error(teY[timesteps:-2,:], addtestPredict), ' MAEMS == ', np.mean((abs(addtestPredict - teY[timesteps:-2,:]))*np.square(teY[timesteps:-2,:]-np.mean(teY[timesteps:-2,:])))*100)"
   ]
  },
  {
   "cell_type": "code",
   "execution_count": 53,
   "id": "7e531330",
   "metadata": {},
   "outputs": [],
   "source": [
    "result_tr = np.concatenate([addtrainPredict.reshape(-1,1), trvaY[timesteps:-2,:].reshape(-1,1), trvaY[timesteps:-2,:].reshape(-1,1)-addtrainPredict.reshape(-1,1), trainPredict[timesteps:-2,:].reshape(-1,1)], axis=1)\n",
    "result_te = np.concatenate([addtestPredict.reshape(-1,1), teY[timesteps:-2,:].reshape(-1,1), teY[timesteps:-2,:].reshape(-1,1)-addtestPredict.reshape(-1,1), testPredict[timesteps:-2,:].reshape(-1,1)], axis=1)\n",
    "\n",
    "result_tr_df = pd.DataFrame(result_tr, columns=['Predicted Value','Real Value','Forecasting Error', 'Initial Predicted Value'])\n",
    "result_te_df = pd.DataFrame(result_te, columns=['Predicted Value','Real Value','Forecasting Error', 'Initial Predicted Value'])"
   ]
  },
  {
   "cell_type": "code",
   "execution_count": 54,
   "id": "e32e3ec1",
   "metadata": {},
   "outputs": [],
   "source": [
    "error_tr_FFEL = trvaY[timesteps:-2,:].reshape(-1,1)-addtrainPredict.reshape(-1,1)\n",
    "error_tr_basic = trvaY[timesteps:-2,:].reshape(-1,1)-trainPredict[timesteps:-2,:].reshape(-1,1)\n",
    "error_te_FFEL = teY[timesteps:-2,:].reshape(-1,1)-addtestPredict.reshape(-1,1)\n",
    "error_te_basic = teY[timesteps:-2,:].reshape(-1,1)-testPredict[timesteps:-2,:].reshape(-1,1)"
   ]
  },
  {
   "cell_type": "code",
   "execution_count": 55,
   "id": "ead2ec97",
   "metadata": {},
   "outputs": [
    {
     "data": {
      "text/plain": [
       "(0.0029113482659550976,\n",
       " 0.003907987935778418,\n",
       " -0.04133397366692774,\n",
       " 0.004764230836777747,\n",
       " 0.0040189416974701075,\n",
       " 0.003183004079984991,\n",
       " -0.03779749458381089,\n",
       " 0.004202093168148998)"
      ]
     },
     "execution_count": 55,
     "metadata": {},
     "output_type": "execute_result"
    }
   ],
   "source": [
    "np.mean(error_tr_FFEL), np.var(error_tr_FFEL), np.mean(error_tr_basic), np.var(error_tr_basic), np.mean(error_te_FFEL),np.var(error_te_FFEL), np.mean(error_te_basic), np.var(error_te_basic)"
   ]
  },
  {
   "cell_type": "code",
   "execution_count": 56,
   "id": "c897344a",
   "metadata": {},
   "outputs": [],
   "source": [
    "result_tr_df.to_csv('training_ramp_result_df_fh1.csv')\n",
    "result_te_df.to_csv('test_ramp_result_df_fh1.csv')"
   ]
  },
  {
   "cell_type": "code",
   "execution_count": null,
   "id": "d95a8b54",
   "metadata": {},
   "outputs": [],
   "source": []
  },
  {
   "cell_type": "code",
   "execution_count": null,
   "id": "955dbc3c",
   "metadata": {},
   "outputs": [],
   "source": []
  }
 ],
 "metadata": {
  "kernelspec": {
   "display_name": "Python 3",
   "language": "python",
   "name": "python3"
  },
  "language_info": {
   "codemirror_mode": {
    "name": "ipython",
    "version": 3
   },
   "file_extension": ".py",
   "mimetype": "text/x-python",
   "name": "python",
   "nbconvert_exporter": "python",
   "pygments_lexer": "ipython3",
   "version": "3.6.13"
  }
 },
 "nbformat": 4,
 "nbformat_minor": 5
}
